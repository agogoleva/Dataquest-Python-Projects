{
 "cells": [
  {
   "cell_type": "markdown",
   "metadata": {},
   "source": [
    "# WNBA studying the dataset"
   ]
  },
  {
   "cell_type": "markdown",
   "metadata": {},
   "source": [
    "Goal: The project aims to explore the WNBA Player stats Season 2016-2017\n",
    "\n",
    "Dataset:The dataset is about basketball players in the WNBA (Women's National Basketball Association), and contains general information about players, along with their metrics for the 2016-2017 season ([kaggle.com](https://www.kaggle.com/datasets/jinxbe/wnba-player-stats-2017))"
   ]
  },
  {
   "cell_type": "markdown",
   "metadata": {},
   "source": [
    "### <a id = 0> Table of contents:</a>\n",
    "\n",
    "---\n",
    "\n",
    "1. [Sampling Error](#1)\n",
    "2. [Simple Random Sampling](#2)\n",
    "3. [Stratified Sampling](#3)\n",
    "4. [Proportional Stratified Sampling](#4)\n",
    "5. [Cluster Sampling](#5)\n",
    "6. [Frequency Distribution Tables](#6)\n",
    "7. [Sorting Tables for Ordinal Variables](#7)\n",
    "8. [Percentiles and Percentile Ranks](#8)\n",
    "9. [Grouped Frequency Distribution Tables](#9)"
   ]
  },
  {
   "cell_type": "markdown",
   "metadata": {},
   "source": [
    "<a id = 1> **Sampling Error**: </a> - [Top](#0)"
   ]
  },
  {
   "cell_type": "markdown",
   "metadata": {},
   "source": [
    "### About the dataset \n",
    "\n",
    "We will upload and explore the dataset `wnba.csv`."
   ]
  },
  {
   "cell_type": "code",
   "execution_count": 1,
   "metadata": {},
   "outputs": [
    {
     "name": "stdout",
     "output_type": "stream",
     "text": [
      "              Name Team  Pos  Height  Weight        BMI Birth_Place  \\\n",
      "0    Aerial Powers  DAL    F     183    71.0  21.200991          US   \n",
      "1      Alana Beard   LA  G/F     185    73.0  21.329438          US   \n",
      "2     Alex Bentley  CON    G     170    69.0  23.875433          US   \n",
      "3  Alex Montgomery  SAN  G/F     185    84.0  24.543462          US   \n",
      "4     Alexis Jones  MIN    G     175    78.0  25.469388          US   \n",
      "\n",
      "           Birthdate  Age         College  ... OREB  DREB  REB  AST  STL  BLK  \\\n",
      "0   January 17, 1994   23  Michigan State  ...    6    22   28   12    3    6   \n",
      "1       May 14, 1982   35            Duke  ...   19    82  101   72   63   13   \n",
      "2   October 27, 1990   26      Penn State  ...    4    36   40   78   22    3   \n",
      "3  December 11, 1988   28    Georgia Tech  ...   35   134  169   65   20   10   \n",
      "4     August 5, 1994   23          Baylor  ...    3     9   12   12    7    0   \n",
      "\n",
      "   TO  PTS  DD2  TD3  \n",
      "0  12   93    0    0  \n",
      "1  40  217    0    0  \n",
      "2  24  218    0    0  \n",
      "3  38  188    2    0  \n",
      "4  14   50    0    0  \n",
      "\n",
      "[5 rows x 32 columns]\n",
      "(143, 32)\n",
      "2\n"
     ]
    }
   ],
   "source": [
    "import pandas as pd\n",
    "import matplotlib.pyplot as plt\n",
    "\n",
    "wnba = pd.read_csv(\"wnba.csv\")\n",
    "print(wnba.head())\n",
    "wnba.tail()\n",
    "print(wnba.shape)\n",
    "parameter = wnba[\"Games Played\"].max()\n",
    "sample = wnba.sample(30, random_state = 1)\n",
    "statistic = sample[\"Games Played\"].max()\n",
    "sampling_error = parameter  - statistic\n",
    "print(sampling_error)"
   ]
  },
  {
   "cell_type": "markdown",
   "metadata": {},
   "source": [
    "`Sampling error` here represents the difference between the parameter—the maximum number of games played per player in the entire dataset—and the statistic—the maximum number of games played per player in a sample dataset of 30 players."
   ]
  },
  {
   "cell_type": "markdown",
   "metadata": {},
   "source": [
    "<a id = 2> Simple Random Sampling: </a> - [Top](#0)"
   ]
  },
  {
   "cell_type": "markdown",
   "metadata": {},
   "source": [
    "Let's visualize the discrepancy between a parameter and its corresponding statistics in the case of simple random sampling."
   ]
  },
  {
   "cell_type": "code",
   "execution_count": 2,
   "metadata": {},
   "outputs": [
    {
     "data": {
      "image/png": "[encoded data removed]",
      "text/plain": [
       "<Figure size 432x288 with 1 Axes>"
      ]
     },
     "metadata": {
      "needs_background": "light"
     },
     "output_type": "display_data"
    }
   ],
   "source": [
    "population_mean = wnba[\"PTS\"].mean()\n",
    "means = []\n",
    "for i in range(100):\n",
    "    sample = wnba[\"PTS\"].sample(10, random_state = i)\n",
    "    means.append(sample.mean())\n",
    "    \n",
    "plt.scatter(range(0,100), means)\n",
    "plt.axhline(population_mean)\n",
    "plt.show()"
   ]
  },
  {
   "cell_type": "markdown",
   "metadata": {},
   "source": [
    "<a id = 3> **Stratified Sampling**: </a> - [Top](#0)"
   ]
  },
  {
   "cell_type": "code",
   "execution_count": 3,
   "metadata": {},
   "outputs": [
    {
     "name": "stdout",
     "output_type": "stream",
     "text": [
      "['F' 'G/F' 'G' 'C' 'F/C']\n"
     ]
    }
   ],
   "source": [
    "print(wnba['Pos'].unique())"
   ]
  },
  {
   "cell_type": "markdown",
   "metadata": {},
   "source": [
    "There are five unique positions in our data set.\n",
    "\n",
    "|Abbreviation|Full name|\n",
    "|-----------|-----------|\n",
    "|F|Forward|\n",
    "|G|Guard|\n",
    "|C|Center|\n",
    "|G/F|Guard/Forward|\n",
    "|F/C|Forward/Center|\n",
    "\n",
    "We will perform stratified sampling: stratify the dataset by player position, and then do simple random sampling on every stratum. At the end, we will use the sample to determine which position scores the highest number of points per game."
   ]
  },
  {
   "cell_type": "code",
   "execution_count": 4,
   "metadata": {},
   "outputs": [
    {
     "name": "stdout",
     "output_type": "stream",
     "text": [
      "{'G': 7.092926195632343, 'F': 8.702175158545568, 'C': 9.833761394334251, 'G/F': 6.817264935760487, 'F/C': 9.059118773946361}\n",
      "Position with most points:  C\n"
     ]
    }
   ],
   "source": [
    "wnba[\"Points per season\"] = wnba[\"PTS\"]/wnba[\"Games Played\"]\n",
    "stratum_G = wnba[wnba[\"Pos\"] == 'G']\n",
    "stratum_F = wnba[wnba.Pos == 'F']\n",
    "stratum_C = wnba[wnba.Pos == 'C']\n",
    "stratum_GF = wnba[wnba.Pos == 'G/F']\n",
    "stratum_FC = wnba[wnba[\"Pos\"] == \"F/C\"]\n",
    "\n",
    "points_per_position = {}\n",
    "for stratum, position in [(stratum_G, 'G'), (stratum_F, 'F'), (stratum_C, 'C'),\n",
    "                (stratum_GF, 'G/F'), (stratum_FC, 'F/C')]:\n",
    "    sample_data = stratum[\"Points per season\"].sample(10, random_state=0)\n",
    "    points_per_position[position] = sample_data.mean()\n",
    "\n",
    "print(points_per_position)\n",
    "position_most_points = max(points_per_position, key = points_per_position.get) #To find the dictionary key that has the greatest dictionary value\n",
    "print(\"Position with most points: \", position_most_points)"
   ]
  },
  {
   "cell_type": "markdown",
   "metadata": {},
   "source": [
    "<a id = 4> **Proportional Stratified Sampling**: </a> - [Top](#0)"
   ]
  },
  {
   "cell_type": "markdown",
   "metadata": {},
   "source": [
    "We will stratify the dataset by the number of games played in the following way: the first stratum should include players who played 12 games or fewer; the second stratum should players who played more than 12 games but up to 22 (included); the third stratum should include players who played more than 22 games (22 not included). After we will perform stratified sampling 100 times. "
   ]
  },
  {
   "cell_type": "code",
   "execution_count": 5,
   "metadata": {
    "scrolled": true
   },
   "outputs": [
    {
     "data": {
      "image/png": "[encoded data removed]",
      "text/plain": [
       "<Figure size 432x288 with 1 Axes>"
      ]
     },
     "metadata": {
      "needs_background": "light"
     },
     "output_type": "display_data"
    }
   ],
   "source": [
    "stratum_1 = wnba[wnba[\"Games Played\"] <= 12]\n",
    "stratum_2 = wnba[ (wnba[\"Games Played\"] > 12) & (wnba[\"Games Played\"] <= 22)]\n",
    "stratum_3 = wnba[wnba[\"Games Played\"] > 22]\n",
    "\n",
    "proportional_sampling_means = []\n",
    "\n",
    "for i in range(100):\n",
    "    sample1 = stratum_1[\"PTS\"].sample(1, random_state = i)\n",
    "    sample2 = stratum_2[\"PTS\"].sample(2, random_state = i)\n",
    "    sample3 = stratum_3[\"PTS\"].sample(7, random_state = i)\n",
    "    final_sample = pd.concat([sample1, sample2, sample3])\n",
    "    proportional_sampling_means.append(final_sample.mean())\n",
    "    \n",
    "plt.scatter(range(1,101), proportional_sampling_means)\n",
    "plt.axhline(wnba['PTS'].mean())\n",
    "plt.show()"
   ]
  },
  {
   "cell_type": "markdown",
   "metadata": {},
   "source": [
    "<a id = 5> **Cluster Sampling**: </a> - [Top](#0)"
   ]
  },
  {
   "cell_type": "markdown",
   "metadata": {},
   "source": [
    "We will pick 4 team clusters randomly and estimate the mean for the following player attributes:\n",
    "\n",
    "- Height\n",
    "- Age\n",
    "- BMI\n",
    "- Total points"
   ]
  },
  {
   "cell_type": "code",
   "execution_count": 6,
   "metadata": {
    "scrolled": true
   },
   "outputs": [
    {
     "name": "stdout",
     "output_type": "stream",
     "text": [
      "['DAL' 'LA' 'CON' 'SAN' 'MIN' 'SEA' 'PHO' 'CHI' 'WAS' 'NY' 'ATL' 'IND']\n",
      "6     PHO\n",
      "11    IND\n",
      "4     MIN\n",
      "10    ATL\n",
      "dtype: object\n",
      "               Name Team  Pos  Height  Weight        BMI Birth_Place  \\\n",
      "6     Alexis Prince  PHO    G     188    81.0  22.917610          US   \n",
      "15   Angel Robinson  PHO  F/C     198    88.0  22.446689          US   \n",
      "25  Brittney Griner  PHO    C     206    93.0  21.915355          US   \n",
      "27   Camille Little  PHO    F     188    82.0  23.200543          US   \n",
      "32     Cayla George  PHO    C     193    87.0  23.356332          AU   \n",
      "\n",
      "           Birthdate  Age         College  ... DREB  REB  AST  STL  BLK  TO  \\\n",
      "6   February 5, 1994   23          Baylor  ...   14   15    5    4    3   3   \n",
      "15   August 30, 1995   21   Arizona State  ...   42   58    8    1   11  16   \n",
      "25  October 18, 1990   26          Baylor  ...  129  172   39   13   54  52   \n",
      "27  January 18, 1985   32  North Carolina  ...   71  113   42   28   13  50   \n",
      "32    April 20, 1987   30         Georgia  ...   71   81   15    9   11  13   \n",
      "\n",
      "    PTS  DD2  TD3  Points per season  \n",
      "6    24    0    0           1.500000  \n",
      "15   58    0    0           3.866667  \n",
      "25  461    6    0          20.954545  \n",
      "27  228    0    0           7.600000  \n",
      "32  100    1    0           3.571429  \n",
      "\n",
      "[5 rows x 33 columns]\n"
     ]
    }
   ],
   "source": [
    "print(wnba[\"Team\"].unique())\n",
    "\n",
    "sample4 = pd.Series(wnba[\"Team\"].unique()).sample(4, random_state=0)\n",
    "print(sample4)\n",
    "\n",
    "wnba4 = pd.DataFrame()\n",
    "\n",
    "for cluster in sample4:\n",
    "    data = wnba[wnba[\"Team\"] == cluster]\n",
    "    wnba4 = pd.concat([wnba4, data])\n",
    "    \n",
    "print(wnba4.head())    \n",
    "sampling_error_height = wnba['Height'].mean() - wnba4['Height'].mean()\n",
    "sampling_error_age = wnba['Age'].mean() - wnba4['Age'].mean()\n",
    "sampling_error_BMI = wnba['BMI'].mean() - wnba4['BMI'].mean()\n",
    "sampling_error_points = wnba['PTS'].mean() - wnba4['PTS'].mean()"
   ]
  },
  {
   "cell_type": "markdown",
   "metadata": {},
   "source": [
    "<a id = 6> **Frequency Distribution Tables**: </a> - [Top](#0)"
   ]
  },
  {
   "cell_type": "markdown",
   "metadata": {},
   "source": [
    "Using the Series.value_counts() method, we will generate frequency distribution tables for the following columns: Pos, Height, and Age."
   ]
  },
  {
   "cell_type": "code",
   "execution_count": 7,
   "metadata": {},
   "outputs": [
    {
     "name": "stdout",
     "output_type": "stream",
     "text": [
      "Distribution of positions:\n",
      " G      60\n",
      "F      33\n",
      "C      25\n",
      "G/F    13\n",
      "F/C    12\n",
      "Name: Pos, dtype: int64\n",
      "Distribution of positions in %:\n",
      " G      41.958042\n",
      "F      23.076923\n",
      "C      17.482517\n",
      "G/F     9.090909\n",
      "F/C     8.391608\n",
      "Name: Pos, dtype: float64\n",
      "Distribution of heights:\n",
      " 188    20\n",
      "193    18\n",
      "175    16\n",
      "185    15\n",
      "191    11\n",
      "183    11\n",
      "173    11\n",
      "196     9\n",
      "178     8\n",
      "180     7\n",
      "170     6\n",
      "198     5\n",
      "201     2\n",
      "168     2\n",
      "206     1\n",
      "165     1\n",
      "Name: Height, dtype: int64\n",
      "Distribution of age:\n",
      " 21     2\n",
      "22    10\n",
      "23    15\n",
      "24    16\n",
      "25    15\n",
      "26    12\n",
      "27    13\n",
      "28    14\n",
      "29     8\n",
      "30     9\n",
      "31     8\n",
      "32     8\n",
      "33     3\n",
      "34     5\n",
      "35     4\n",
      "36     1\n",
      "Name: Age, dtype: int64\n"
     ]
    }
   ],
   "source": [
    "freq_distro_pos = wnba[\"Pos\"].value_counts()\n",
    "print(\"Distribution of positions:\\n\", freq_distro_pos)\n",
    "print(\"Distribution of positions in %:\\n\", wnba['Pos'].value_counts(normalize = True) * 100)\n",
    "freq_distro_height = wnba[\"Height\"].value_counts()\n",
    "print(\"Distribution of heights:\\n\",freq_distro_height)\n",
    "age_ascending = wnba[\"Age\"].value_counts().sort_index()\n",
    "print(\"Distribution of age:\\n\",age_ascending)"
   ]
  },
  {
   "cell_type": "markdown",
   "metadata": {},
   "source": [
    "<a id = 7> **Sorting Tables for Ordinal Variables**: </a> - [Top](#0)"
   ]
  },
  {
   "cell_type": "markdown",
   "metadata": {},
   "source": [
    "We will generate a frequency distribution table for the transformed PTS_ordinal_scale column, that gives a lablel to the amount of points each player scored."
   ]
  },
  {
   "cell_type": "code",
   "execution_count": 8,
   "metadata": {},
   "outputs": [
    {
     "name": "stdout",
     "output_type": "stream",
     "text": [
      "much more than average      13\n",
      "more than average           21\n",
      "average number of points    45\n",
      "many, but below average     25\n",
      "few points                  27\n",
      "very few points             12\n",
      "Name: PTS_ordinal_scale, dtype: int64\n"
     ]
    }
   ],
   "source": [
    "def make_pts_ordinal(row):\n",
    "    if row['PTS'] <= 20:\n",
    "        return 'very few points'\n",
    "    if (20 < row['PTS'] <=  80):\n",
    "        return 'few points'\n",
    "    if (80 < row['PTS'] <=  150):\n",
    "        return 'many, but below average'\n",
    "    if (150 < row['PTS'] <= 300):\n",
    "        return 'average number of points'\n",
    "    if (300 < row['PTS'] <=  450):\n",
    "        return 'more than average'\n",
    "    else:\n",
    "        return 'much more than average'\n",
    "    \n",
    "wnba['PTS_ordinal_scale'] = wnba.apply(make_pts_ordinal, axis = 1)\n",
    "print(wnba['PTS_ordinal_scale'].value_counts().iloc[[4,3,0,2,1,5]])"
   ]
  },
  {
   "cell_type": "markdown",
   "metadata": {},
   "source": [
    "<a id = 8> **Percentiles and Percentile Ranks**: </a> - [Top](#0)"
   ]
  },
  {
   "cell_type": "markdown",
   "metadata": {},
   "source": [
    "We will try to answer question \"What percentage of players are 23 years or younger?\". We will use the percentileofscore(a, score, kind='weak') function from scipy.stats. We need to use kind = 'weak' to indicate that we want to find the percentage of values that are equal to or less than the value we specify in the score parameter."
   ]
  },
  {
   "cell_type": "code",
   "execution_count": 9,
   "metadata": {},
   "outputs": [
    {
     "name": "stdout",
     "output_type": "stream",
     "text": [
      "18.88111888111888\n"
     ]
    }
   ],
   "source": [
    "from scipy.stats import percentileofscore\n",
    "print(percentileofscore(a=wnba['Age'], score=23, kind='weak'))"
   ]
  },
  {
   "cell_type": "markdown",
   "metadata": {},
   "source": [
    "<a id = 9> **Grouped Frequency Distribution Tables**: </a> - [Top](#0)"
   ]
  },
  {
   "cell_type": "markdown",
   "metadata": {},
   "source": [
    "We will examine the frequency table for the PTS (total points) variable trying to find some patterns in the distribution of values. Then, we will generate a grouped frequency distribution table for the PTS variable with the following characteristics:\n",
    "- The table has 10 class intervals.\n",
    "- For each class interval, the table shows percentages instead of frequencies.\n",
    "- The class intervals are sorted in descending order."
   ]
  },
  {
   "cell_type": "code",
   "execution_count": 10,
   "metadata": {},
   "outputs": [
    {
     "name": "stdout",
     "output_type": "stream",
     "text": [
      "(1.417, 60.2]     20.979021\n",
      "(60.2, 118.4]     16.783217\n",
      "(118.4, 176.6]    11.888112\n",
      "(176.6, 234.8]    13.986014\n",
      "(234.8, 293.0]    11.888112\n",
      "(293.0, 351.2]     5.594406\n",
      "(351.2, 409.4]     6.993007\n",
      "(409.4, 467.6]     5.594406\n",
      "(467.6, 525.8]     2.797203\n",
      "(525.8, 584.0]     3.496503\n",
      "Name: PTS, dtype: float64\n"
     ]
    }
   ],
   "source": [
    "grouped_freq_table = wnba[\"PTS\"].value_counts(bins = 10, normalize = True).sort_index(ascending=True)*100\n",
    "print(grouped_freq_table)"
   ]
  },
  {
   "cell_type": "markdown",
   "metadata": {},
   "source": [
    "We will make the same table but using the intervals using the pd.interval_range() function, which will make the data more understandable."
   ]
  },
  {
   "cell_type": "code",
   "execution_count": 11,
   "metadata": {},
   "outputs": [
    {
     "name": "stdout",
     "output_type": "stream",
     "text": [
      "(0, 60]       30\n",
      "(60, 120]     25\n",
      "(120, 180]    17\n",
      "(180, 240]    22\n",
      "(240, 300]    15\n",
      "(300, 360]     7\n",
      "(360, 420]    11\n",
      "(420, 480]     7\n",
      "(480, 540]     4\n",
      "(540, 600]     5\n",
      "Name: PTS, dtype: int64\n"
     ]
    }
   ],
   "source": [
    "intervals = pd.interval_range(start=0, end=600, freq=60)\n",
    "gr_freq_table_10 = wnba[\"PTS\"].value_counts(bins = intervals).sort_index()\n",
    "print(gr_freq_table_10)"
   ]
  }
 ],
 "metadata": {
  "kernelspec": {
   "display_name": "Python 3",
   "language": "python",
   "name": "python3"
  },
  "language_info": {
   "codemirror_mode": {
    "name": "ipython",
    "version": 3
   },
   "file_extension": ".py",
   "mimetype": "text/x-python",
   "name": "python",
   "nbconvert_exporter": "python",
   "pygments_lexer": "ipython3",
   "version": "3.8.5"
  }
 },
 "nbformat": 4,
 "nbformat_minor": 4
}
