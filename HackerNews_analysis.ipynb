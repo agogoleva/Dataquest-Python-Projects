{
 "cells": [
  {
   "cell_type": "markdown",
   "metadata": {},
   "source": [
    "# Analysis of posts at Hacker News\n",
    "\n",
    "Goal: The project aims to give recommendations at what time it is best to create a post in order to get the largest number of comments based on the analysis of posts from the Hacker News web platform.\n",
    "\n",
    "Method: The analysis is targeting posts containing *Ask HN* or *Show HN* in their titles, which include posts with specific questions from users or posts with user-created projects. We are interested in the number of comments they recive on average and how it is influenced by their creation time.\n",
    "\n",
    "Data set: ~20,000 posts from Hacker News.\n",
    "\n",
    "Key parameter: *Ask HN* or *Show HN* posts"
   ]
  },
  {
   "cell_type": "markdown",
   "metadata": {},
   "source": [
    "## Data\n",
    "\n",
    "The sample data set of ~20,000 posts from Hacker News is avaliable [here](https://www.kaggle.com/hacker-news/hacker-news-posts)."
   ]
  },
  {
   "cell_type": "markdown",
   "metadata": {},
   "source": [
    "## Open the data"
   ]
  },
  {
   "cell_type": "code",
   "execution_count": 1,
   "metadata": {
    "scrolled": true
   },
   "outputs": [],
   "source": [
    "from csv import reader\n",
    "\n",
    "opened_file = open('hacker_news.csv')\n",
    "read_file = reader(opened_file)\n",
    "hn = list(read_file)\n",
    "headers = hn[0]\n",
    "hn = hn[1:]\n",
    "hn_ln = len(hn)\n",
    "print('Lengthe of Hacker News data without the header:', hn_ln)\n"
   ]
  },
  {
   "cell_type": "markdown",
   "metadata": {},
   "source": [
    "The headers of the data set:"
   ]
  },
  {
   "cell_type": "code",
   "execution_count": 2,
   "metadata": {},
   "outputs": [
    {
     "name": "stdout",
     "output_type": "stream",
     "text": [
      "0 :  id\n",
      "1 :  title\n",
      "2 :  url\n",
      "3 :  num_points\n",
      "4 :  num_comments\n",
      "5 :  author\n",
      "6 :  created_at\n"
     ]
    }
   ],
   "source": [
    "n=0\n",
    "for line in headers:\n",
    "    n +=1\n",
    "    print(n-1, \": \", line)"
   ]
  },
  {
   "cell_type": "markdown",
   "metadata": {},
   "source": [
    "The first 5 rows of the data set:"
   ]
  },
  {
   "cell_type": "code",
   "execution_count": 3,
   "metadata": {},
   "outputs": [
    {
     "name": "stdout",
     "output_type": "stream",
     "text": [
      "['12224879', 'Interactive Dynamic Video', 'http://www.interactivedynamicvideo.com/', '386', '52', 'ne0phyte', '8/4/2016 11:52']\n",
      "\n",
      "\n",
      "['10975351', 'How to Use Open Source and Shut the Fuck Up at the Same Time', 'http://hueniverse.com/2016/01/26/how-to-use-open-source-and-shut-the-fuck-up-at-the-same-time/', '39', '10', 'josep2', '1/26/2016 19:30']\n",
      "\n",
      "\n",
      "['11964716', \"Florida DJs May Face Felony for April Fools' Water Joke\", 'http://www.thewire.com/entertainment/2013/04/florida-djs-april-fools-water-joke/63798/', '2', '1', 'vezycash', '6/23/2016 22:20']\n",
      "\n",
      "\n",
      "['11919867', 'Technology ventures: From Idea to Enterprise', 'https://www.amazon.com/Technology-Ventures-Enterprise-Thomas-Byers/dp/0073523429', '3', '1', 'hswarna', '6/17/2016 0:01']\n",
      "\n",
      "\n",
      "['10301696', 'Note by Note: The Making of Steinway L1037 (2007)', 'http://www.nytimes.com/2007/11/07/movies/07stein.html?_r=0', '8', '2', 'walterbell', '9/30/2015 4:12']\n",
      "\n",
      "\n"
     ]
    }
   ],
   "source": [
    "for row in hn[0:5]:\n",
    "    print(row)\n",
    "    print(\"\\n\")"
   ]
  },
  {
   "cell_type": "markdown",
   "metadata": {},
   "source": [
    "To select the data starting with *Ask HN* from *Show HN* and the rest into three separate lists:"
   ]
  },
  {
   "cell_type": "code",
   "execution_count": 4,
   "metadata": {},
   "outputs": [
    {
     "name": "stdout",
     "output_type": "stream",
     "text": [
      "Number of Ask HN posts:  1744\n",
      "Number of Show HN posts:  1162\n",
      "Number of other posts:  17194\n",
      "[['12296411', 'Ask HN: How to improve my personal website?', '', '2', '6', 'ahmedbaracat', '8/16/2016 9:55'], ['10610020', 'Ask HN: Am I the only one outraged by Twitter shutting down share counts?', '', '28', '29', 'tkfx', '11/22/2015 13:43'], ['11610310', 'Ask HN: Aby recent changes to CSS that broke mobile?', '', '1', '1', 'polskibus', '5/2/2016 10:14'], ['12210105', 'Ask HN: Looking for Employee #3 How do I do it?', '', '1', '3', 'sph130', '8/2/2016 14:20'], ['10394168', 'Ask HN: Someone offered to buy my browser extension from me. What now?', '', '28', '17', 'roykolak', '10/15/2015 16:38']]\n"
     ]
    }
   ],
   "source": [
    "ask_posts = []\n",
    "show_posts = []\n",
    "other_posts = []\n",
    "\n",
    "for row in hn:\n",
    "    title = row[1]\n",
    "    title_low = title.lower()\n",
    "    if title_low.startswith('ask hn'):\n",
    "        ask_posts.append(row)\n",
    "    elif title_low.startswith('show hn'):\n",
    "        show_posts.append(row)\n",
    "    else:\n",
    "        other_posts.append(row)        \n",
    "        \n",
    "n_ask_posts = len(ask_posts)\n",
    "n_show_posts = len(show_posts)\n",
    "n_other_posts = len(other_posts)\n",
    "print(\"Number of Ask HN posts: \", n_ask_posts)\n",
    "print(\"Number of Show HN posts: \", n_show_posts)\n",
    "print(\"Number of other posts: \", n_other_posts)\n",
    "\n",
    "print(ask_posts[0:5])"
   ]
  },
  {
   "cell_type": "markdown",
   "metadata": {},
   "source": [
    "To determine if *Ask HN* or *Show HN* posts recieve more comments (column 4 in our data set):"
   ]
  },
  {
   "cell_type": "code",
   "execution_count": 5,
   "metadata": {},
   "outputs": [
    {
     "name": "stdout",
     "output_type": "stream",
     "text": [
      "Total number of Ask HN comments:  24483\n",
      "Average number of Ask HN comments:  14.04\n",
      "Total number of Show HN comments:  11988\n",
      "Average number of Show HN comments:  10.32\n"
     ]
    }
   ],
   "source": [
    "total_ask_comments = 0\n",
    "for row in ask_posts:\n",
    "    num_comments = int(row[4])\n",
    "    total_ask_comments += num_comments\n",
    "    \n",
    "avg_ask_comments = round(total_ask_comments/len(ask_posts),2)\n",
    "print(\"Total number of Ask HN comments: \", total_ask_comments)\n",
    "print(\"Average number of Ask HN comments: \", avg_ask_comments)\n",
    "\n",
    "total_show_comments = 0\n",
    "for row in show_posts:\n",
    "    num_comments = int(row[4])\n",
    "    total_show_comments += num_comments\n",
    "    \n",
    "avg_show_comments = round(total_show_comments/len(show_posts),2)\n",
    "print(\"Total number of Show HN comments: \", total_show_comments)\n",
    "print(\"Average number of Show HN comments: \", avg_show_comments)"
   ]
  },
  {
   "cell_type": "markdown",
   "metadata": {},
   "source": [
    "According to the anaysis, *Ask HN* posts recieve more comments in total, being ~14 comments per post on avergae. This could be due to the specifics of these post, that assume interaction witht he other users, involving them in conversation.\n",
    "The remaining analysis will focus on *Ask HN* posts."
   ]
  },
  {
   "cell_type": "markdown",
   "metadata": {},
   "source": [
    "Firstly, we will calculate the amount of *Ask HN* posts and comments by hour created with the help of **datetime** module. "
   ]
  },
  {
   "cell_type": "code",
   "execution_count": 6,
   "metadata": {
    "scrolled": true
   },
   "outputs": [
    {
     "name": "stdout",
     "output_type": "stream",
     "text": [
      "Example of the list of list containig only date of the post and the number of comments:\n",
      "\n",
      "\n",
      "[['8/16/2016 9:55', 6], ['11/22/2015 13:43', 29], ['5/2/2016 10:14', 1], ['8/2/2016 14:20', 3], ['10/15/2015 16:38', 17]]\n",
      "\n",
      "\n",
      "Number of posts created by hour: \n",
      "{'09': 45, '13': 85, '10': 59, '14': 107, '16': 108, '23': 68, '12': 73, '17': 100, '15': 116, '21': 109, '20': 80, '02': 58, '18': 109, '03': 54, '05': 46, '19': 110, '01': 60, '22': 71, '08': 48, '04': 47, '00': 55, '06': 44, '07': 34, '11': 58}\n",
      "\n",
      "\n",
      "Number of comments recieved by hour: \n",
      "{'09': 251, '13': 1253, '10': 793, '14': 1416, '16': 1814, '23': 543, '12': 687, '17': 1146, '15': 4477, '21': 1745, '20': 1722, '02': 1381, '18': 1439, '03': 421, '05': 464, '19': 1188, '01': 683, '22': 479, '08': 492, '04': 337, '00': 447, '06': 397, '07': 267, '11': 641}\n"
     ]
    }
   ],
   "source": [
    "import datetime as dt\n",
    "\n",
    "result_list = []\n",
    "for row in ask_posts:\n",
    "    created_at = row[6]\n",
    "    num_comments = int(row[4])\n",
    "    result_list.append([created_at, num_comments])\n",
    "\n",
    "print(\"Example of the list of list containig only date of the post and the number of comments:\")\n",
    "print(\"\\n\")\n",
    "print(result_list[0:5])\n",
    "print(\"\\n\")\n",
    "\n",
    "counts_by_hour = {}\n",
    "comments_by_hour = {}\n",
    "for row in result_list:\n",
    "    comment = int(row[1])\n",
    "    date = row[0]\n",
    "    date_dt = dt.datetime.strptime(date, \"%m/%d/%Y %H:%M\")\n",
    "    hour = date_dt.strftime(\"%H\")\n",
    "    if hour not in counts_by_hour:\n",
    "        counts_by_hour[hour] = 1\n",
    "        comments_by_hour[hour] = comment\n",
    "    else:\n",
    "        counts_by_hour[hour] += 1 \n",
    "        comments_by_hour[hour] += comment\n",
    "\n",
    "print(\"Number of posts created by hour: \")\n",
    "print(counts_by_hour)\n",
    "print(\"\\n\")\n",
    "print(\"Number of comments recieved by hour: \")\n",
    "print(comments_by_hour)"
   ]
  },
  {
   "cell_type": "markdown",
   "metadata": {},
   "source": [
    "We will calculate the average number of comments for posts created during each hour of the day. The result should be a list of lists in which the first element is the hour and the second element is the average number of comments per post."
   ]
  },
  {
   "cell_type": "code",
   "execution_count": 7,
   "metadata": {},
   "outputs": [
    {
     "name": "stdout",
     "output_type": "stream",
     "text": [
      "The average number of comments for posts created during each hour of the day:\n",
      "\n",
      "\n",
      "[['09', 5.58], ['13', 14.74], ['10', 13.44], ['14', 13.23], ['16', 16.8], ['23', 7.99], ['12', 9.41], ['17', 11.46], ['15', 38.59], ['21', 16.01], ['20', 21.52], ['02', 23.81], ['18', 13.2], ['03', 7.8], ['05', 10.09], ['19', 10.8], ['01', 11.38], ['22', 6.75], ['08', 10.25], ['04', 7.17], ['00', 8.13], ['06', 9.02], ['07', 7.85], ['11', 11.05]]\n"
     ]
    }
   ],
   "source": [
    "avg_by_hour = []\n",
    "\n",
    "for hour in counts_by_hour:\n",
    "    avg_by_hour.append([hour, round(comments_by_hour[hour]/counts_by_hour[hour],2)])\n",
    "\n",
    "print(\"The average number of comments for posts created during each hour of the day:\")    \n",
    "print(\"\\n\")\n",
    "print(avg_by_hour)"
   ]
  },
  {
   "cell_type": "markdown",
   "metadata": {},
   "source": [
    "We will print the list of five highest values of from *avg_by_hour* data set. Firstly, we will sort the mosr commented hours and select the top five from them."
   ]
  },
  {
   "cell_type": "code",
   "execution_count": 8,
   "metadata": {
    "scrolled": true
   },
   "outputs": [
    {
     "name": "stdout",
     "output_type": "stream",
     "text": [
      "Top 5 Hours for Ask Posts Comments\n",
      "15:00: 38.59 average comments per post\n",
      "02:00: 23.81 average comments per post\n",
      "20:00: 21.52 average comments per post\n",
      "16:00: 16.8 average comments per post\n",
      "21:00: 16.01 average comments per post\n"
     ]
    }
   ],
   "source": [
    "swap_avg_by_hour = []\n",
    "for hour in avg_by_hour:\n",
    "    swap_avg_by_hour.append([hour[1],hour[0]])\n",
    "\n",
    "sorted_swap = sorted(swap_avg_by_hour, reverse=True)\n",
    "\n",
    "print(\"Top 5 Hours for Ask Posts Comments\")\n",
    "\n",
    "\n",
    "for av_n_com, hour in sorted_swap[0:5]:\n",
    "        template = \"{h}: {av} average comments per post\"\n",
    "        hour_dt = dt.datetime.strptime(hour, \"%H\")\n",
    "        hout_min = hour_dt.strftime(\"%H:%M\")\n",
    "        output = template.format(h = hout_min, av = av_n_com)\n",
    "        print(output)\n",
    "        "
   ]
  },
  {
   "cell_type": "markdown",
   "metadata": {},
   "source": [
    "## Conclusions\n",
    "\n",
    "\n",
    "According to the most commented hours, the best time intervals to create a post that have higher chances to collect most comments would be 15:00-16:00, 20:00-21:00 and late at night at ~2:00. \n",
    "\n",
    "The first time interval 15:00-16:00 corresponds to the after-lunch time. Possibly at that time users are back to their working desks and instead of jumping into work flow they are reading the Hacker News and perhaps discussing them with collegues.\n",
    "\n",
    "The second time interval 20:00-21:00 corresponds to the after-dinner time (if take that in the US typicall dinner time is 18:00-19:30). Possibly at that time users are back home and would like to rest by reading Hacker News.\n",
    "\n",
    "The ~2:00 time perhaps corresponds to the time when freelanser IT specialists/programmers...ets with flexible schedule are reading Hacker News after finishing work, maybe before going to bed. Also this time is for a specific time zone, i.e. the Eastern Time in the US."
   ]
  }
 ],
 "metadata": {
  "kernelspec": {
   "display_name": "Python 3",
   "language": "python",
   "name": "python3"
  },
  "language_info": {
   "codemirror_mode": {
    "name": "ipython",
    "version": 3
   },
   "file_extension": ".py",
   "mimetype": "text/x-python",
   "name": "python",
   "nbconvert_exporter": "python",
   "pygments_lexer": "ipython3",
   "version": "3.8.5"
  }
 },
 "nbformat": 4,
 "nbformat_minor": 4
}
